{
 "cells": [
  {
   "cell_type": "markdown",
   "id": "e18afd84",
   "metadata": {},
   "source": [
    "## Step 0. Data Science connection to Duet Network Server"
   ]
  },
  {
   "cell_type": "markdown",
   "id": "earlier-investing",
   "metadata": {},
   "source": [
    "#### DS - Part 2: Join the Duet Server the Data Owner 1 connected to"
   ]
  },
  {
   "cell_type": "code",
   "execution_count": 1,
   "id": "sized-session",
   "metadata": {
    "scrolled": true
   },
   "outputs": [
    {
     "name": "stdout",
     "output_type": "stream",
     "text": [
      "🎤  🎸  ♪♪♪ Joining Duet ♫♫♫  🎻  🎹\n",
      "\n",
      "♫♫♫ >\u001b[93m DISCLAIMER\u001b[0m: \u001b[1mDuet is an experimental feature currently in beta.\n",
      "♫♫♫ > Use at your own risk.\n",
      "\u001b[0m\n",
      "\u001b[1m\n",
      "    > ❤️ \u001b[91mLove\u001b[0m \u001b[92mDuet\u001b[0m? \u001b[93mPlease\u001b[0m \u001b[94mconsider\u001b[0m \u001b[95msupporting\u001b[0m \u001b[91mour\u001b[0m \u001b[93mcommunity!\u001b[0m\n",
      "    > https://github.com/sponsors/OpenMined\u001b[1m\n",
      "\n",
      "♫♫♫ > Punching through firewall to OpenGrid Network Node at:\n",
      "♫♫♫ > http://52.19.68.70:5000\n",
      "♫♫♫ >\n",
      "♫♫♫ > ...waiting for response from OpenGrid Network... \n",
      "♫♫♫ > \u001b[92mDONE!\u001b[0m\n",
      "\n",
      "♫♫♫ > \u001b[95mSTEP 1:\u001b[0m Send the following Duet Client ID to your duet partner!\n",
      "♫♫♫ > Duet Client ID: \u001b[1ma2e3078377de813a984bda2dc82ade85\u001b[0m\n",
      "\n",
      "♫♫♫ > ...waiting for partner to connect...\n",
      "\n",
      "♫♫♫ > \u001b[92mCONNECTED!\u001b[0m\n"
     ]
    }
   ],
   "source": [
    "import syft as sy\n",
    "duet = sy.duet(\"e22d0fbaec9bfe339f4aaa58c7af83cf\", network_url=\"http://52.19.68.70:5000\")"
   ]
  },
  {
   "cell_type": "markdown",
   "id": "782590f0",
   "metadata": {},
   "source": [
    "## Step 1. Check available data"
   ]
  },
  {
   "cell_type": "code",
   "execution_count": 2,
   "id": "wanted-upper",
   "metadata": {},
   "outputs": [
    {
     "data": {
      "text/html": [
       "<div>\n",
       "<style scoped>\n",
       "    .dataframe tbody tr th:only-of-type {\n",
       "        vertical-align: middle;\n",
       "    }\n",
       "\n",
       "    .dataframe tbody tr th {\n",
       "        vertical-align: top;\n",
       "    }\n",
       "\n",
       "    .dataframe thead th {\n",
       "        text-align: right;\n",
       "    }\n",
       "</style>\n",
       "<table border=\"1\" class=\"dataframe\">\n",
       "  <thead>\n",
       "    <tr style=\"text-align: right;\">\n",
       "      <th></th>\n",
       "      <th>ID</th>\n",
       "      <th>Tags</th>\n",
       "      <th>Description</th>\n",
       "      <th>object_type</th>\n",
       "    </tr>\n",
       "  </thead>\n",
       "  <tbody>\n",
       "    <tr>\n",
       "      <th>0</th>\n",
       "      <td>&lt;UID: 48484ccdfd824753ab4615650e3b19fd&gt;</td>\n",
       "      <td>[x_data_train]</td>\n",
       "      <td>X Train - synthetic regression dataset</td>\n",
       "      <td>&lt;class 'torch.Tensor'&gt;</td>\n",
       "    </tr>\n",
       "    <tr>\n",
       "      <th>1</th>\n",
       "      <td>&lt;UID: 80e284f551d74562a47b0f5d0485e606&gt;</td>\n",
       "      <td>[y_data_train]</td>\n",
       "      <td>Y Train - synthetic regression dataset</td>\n",
       "      <td>&lt;class 'torch.Tensor'&gt;</td>\n",
       "    </tr>\n",
       "    <tr>\n",
       "      <th>2</th>\n",
       "      <td>&lt;UID: 48c985b098ea459f9f3e8f1fc2287779&gt;</td>\n",
       "      <td>[x_data_test]</td>\n",
       "      <td>X Test - synthetic regression dataset</td>\n",
       "      <td>&lt;class 'torch.Tensor'&gt;</td>\n",
       "    </tr>\n",
       "    <tr>\n",
       "      <th>3</th>\n",
       "      <td>&lt;UID: b030dc0de3404c42a581a27427cc1263&gt;</td>\n",
       "      <td>[y_data_test]</td>\n",
       "      <td>Y Test - synthetic regression dataset</td>\n",
       "      <td>&lt;class 'torch.Tensor'&gt;</td>\n",
       "    </tr>\n",
       "  </tbody>\n",
       "</table>\n",
       "</div>"
      ],
      "text/plain": [
       "                                        ID            Tags  \\\n",
       "0  <UID: 48484ccdfd824753ab4615650e3b19fd>  [x_data_train]   \n",
       "1  <UID: 80e284f551d74562a47b0f5d0485e606>  [y_data_train]   \n",
       "2  <UID: 48c985b098ea459f9f3e8f1fc2287779>   [x_data_test]   \n",
       "3  <UID: b030dc0de3404c42a581a27427cc1263>   [y_data_test]   \n",
       "\n",
       "                              Description             object_type  \n",
       "0  X Train - synthetic regression dataset  <class 'torch.Tensor'>  \n",
       "1  Y Train - synthetic regression dataset  <class 'torch.Tensor'>  \n",
       "2   X Test - synthetic regression dataset  <class 'torch.Tensor'>  \n",
       "3   Y Test - synthetic regression dataset  <class 'torch.Tensor'>  "
      ]
     },
     "execution_count": 2,
     "metadata": {},
     "output_type": "execute_result"
    }
   ],
   "source": [
    "duet.store.pandas"
   ]
  },
  {
   "cell_type": "code",
   "execution_count": 3,
   "id": "52d841cb",
   "metadata": {},
   "outputs": [
    {
     "name": "stdout",
     "output_type": "stream",
     "text": [
      "<syft.proxy.torch.TensorPointer object at 0x7f8fecfaea00>\n",
      "<syft.proxy.torch.TensorPointer object at 0x7f8fed045ee0>\n",
      "<syft.proxy.torch.TensorPointer object at 0x7f8fecfba100>\n",
      "<syft.proxy.torch.TensorPointer object at 0x7f8fecfba190>\n"
     ]
    }
   ],
   "source": [
    "X_train_ptr = duet.store['x_data_train']\n",
    "Y_train_ptr = duet.store['y_data_train']\n",
    "\n",
    "X_test_ptr = duet.store['x_data_test']\n",
    "Y_test_ptr = duet.store['y_data_test']\n",
    "\n",
    "\n",
    "print(X_train_ptr)\n",
    "print(Y_train_ptr)\n",
    "\n",
    "print(X_test_ptr)\n",
    "print(Y_test_ptr)"
   ]
  },
  {
   "cell_type": "markdown",
   "id": "efbff650",
   "metadata": {},
   "source": [
    "## Step.2. Pysyft Model definition\n",
    "\n",
    "We are trying to learn the unknown parameters (a,b) y = a*x + b. Thus, we define a model that applies this linear transformation to the training data x in order to predict ŷ. We will use MSE loss to adjust the parameters (a,b) using the y true value"
   ]
  },
  {
   "cell_type": "code",
   "execution_count": 4,
   "id": "3e66ac81",
   "metadata": {},
   "outputs": [],
   "source": [
    "import torch"
   ]
  },
  {
   "cell_type": "code",
   "execution_count": 5,
   "id": "16bcfb9b",
   "metadata": {},
   "outputs": [],
   "source": [
    "input_size = 1 # input features \n",
    "output_size = 1 # output features"
   ]
  },
  {
   "cell_type": "code",
   "execution_count": 6,
   "id": "4bbdc1d6",
   "metadata": {},
   "outputs": [],
   "source": [
    "class linearRegression(sy.Module):\n",
    "    def __init__(self, torch_ref):\n",
    "        super(linearRegression, self).__init__(torch_ref=torch_ref)\n",
    "        self.linear = torch.nn.Linear(input_size, output_size)\n",
    "\n",
    "    def forward(self, x):\n",
    "        out = self.linear(x)\n",
    "        return out"
   ]
  },
  {
   "cell_type": "code",
   "execution_count": 7,
   "id": "dd8bf9d4",
   "metadata": {},
   "outputs": [],
   "source": [
    "torch_model = linearRegression(torch)"
   ]
  },
  {
   "cell_type": "code",
   "execution_count": 8,
   "id": "fd431da4",
   "metadata": {},
   "outputs": [
    {
     "name": "stdout",
     "output_type": "stream",
     "text": [
      "<__main__.linearRegression object at 0x7f8fed045a60>\n"
     ]
    }
   ],
   "source": [
    "print(torch_model)"
   ]
  },
  {
   "cell_type": "markdown",
   "id": "a7842b94",
   "metadata": {},
   "source": [
    "## Step 3.a PySyft Model training "
   ]
  },
  {
   "cell_type": "markdown",
   "id": "a02d6ecd",
   "metadata": {},
   "source": [
    "This is the most common implementation of a PySyft model trainer in Duet."
   ]
  },
  {
   "cell_type": "code",
   "execution_count": 9,
   "id": "aeade179",
   "metadata": {},
   "outputs": [],
   "source": [
    "def train(iterations, model, torch_ref, optim, data_ptr, target_ptr):\n",
    "\n",
    "    losses = []\n",
    "\n",
    "    for i in range(iterations):\n",
    "\n",
    "        optim.zero_grad()\n",
    "        output = model(data_ptr)\n",
    "        loss = torch_ref.nn.functional.mse_loss(output, target_ptr)\n",
    "        loss_item = loss.item()\n",
    "\n",
    "        loss_value = loss_item.get(\n",
    "            reason=\"To evaluate training progress\",\n",
    "            request_block=True,\n",
    "            timeout_secs=5,\n",
    "        )\n",
    "\n",
    "        print(\"Epoch\", i, \"loss\", loss_value)\n",
    "        losses.append(loss_value)\n",
    "        loss.backward()\n",
    "        optim.step()\n",
    "\n",
    "    return losses"
   ]
  },
  {
   "cell_type": "markdown",
   "id": "8ac26c36",
   "metadata": {},
   "source": [
    "### Training"
   ]
  },
  {
   "cell_type": "markdown",
   "id": "f3838672",
   "metadata": {},
   "source": [
    "Train on Data Owner 1 data"
   ]
  },
  {
   "cell_type": "code",
   "execution_count": 10,
   "id": "139e8261",
   "metadata": {},
   "outputs": [],
   "source": [
    "remote_model1 = torch_model.send(duet)"
   ]
  },
  {
   "cell_type": "code",
   "execution_count": 11,
   "id": "155f256a",
   "metadata": {},
   "outputs": [],
   "source": [
    "remote_torch1 = duet.torch\n",
    "params = remote_model1.parameters()\n",
    "optim1 = remote_torch1.optim.Adam(params=params, lr=0.1)"
   ]
  },
  {
   "cell_type": "code",
   "execution_count": 12,
   "id": "0a16f7a9",
   "metadata": {},
   "outputs": [
    {
     "name": "stdout",
     "output_type": "stream",
     "text": [
      "Epoch 0 loss 446.00042724609375\n",
      "Epoch 1 loss 445.6488037109375\n",
      "Epoch 2 loss 445.3446350097656\n",
      "Epoch 3 loss 445.0885925292969\n",
      "Epoch 4 loss 444.8802795410156\n",
      "Epoch 5 loss 444.718505859375\n",
      "Epoch 6 loss 444.600830078125\n",
      "Epoch 7 loss 444.5234680175781\n",
      "Epoch 8 loss 444.4811706542969\n",
      "Epoch 9 loss 444.4670104980469\n"
     ]
    }
   ],
   "source": [
    "iteration = 10\n",
    "losses = train(iteration, remote_model1, remote_torch1, optim1, X_train_ptr, Y_train_ptr)"
   ]
  },
  {
   "cell_type": "markdown",
   "id": "3300cddc",
   "metadata": {},
   "source": [
    "#### Sanity check: remote model parameters vs. base model parameters"
   ]
  },
  {
   "cell_type": "code",
   "execution_count": 13,
   "id": "39f81d0b",
   "metadata": {},
   "outputs": [
    {
     "name": "stdout",
     "output_type": "stream",
     "text": [
      "Base Model parameters:\n",
      "[Parameter containing:\n",
      "tensor([[-0.8546]], requires_grad=True), Parameter containing:\n",
      "tensor([-0.0342], requires_grad=True)]\n",
      "\n",
      "Remote model parameters:\n",
      "[Parameter containing:\n",
      "tensor([[-0.0161]], requires_grad=True), Parameter containing:\n",
      "tensor([0.8701], requires_grad=True)]\n",
      "\n"
     ]
    }
   ],
   "source": [
    "param1 = remote_model1.parameters().get(request_block=True)\n",
    "\n",
    "print(\"Base Model parameters:\")\n",
    "print(torch_model.parameters())\n",
    "print()\n",
    "\n",
    "print(\"Remote model parameters:\")\n",
    "print(param1)\n",
    "print()\n",
    "\n",
    "assert(torch_model.parameters()!= param1)"
   ]
  },
  {
   "cell_type": "markdown",
   "id": "6638fec2",
   "metadata": {},
   "source": [
    "The remote model paramter values are different from the base model paramter values. That means the remote copies of our base model got trained and updated."
   ]
  },
  {
   "cell_type": "markdown",
   "id": "57391dd2",
   "metadata": {},
   "source": [
    "## Step 4. Retrieve the model (parameters)"
   ]
  },
  {
   "cell_type": "code",
   "execution_count": 14,
   "id": "d0bf570b",
   "metadata": {},
   "outputs": [
    {
     "name": "stdout",
     "output_type": "stream",
     "text": [
      "OrderedDict([('linear.weight', tensor([[-0.0161]])), ('linear.bias', tensor([0.8701]))])\n"
     ]
    }
   ],
   "source": [
    "remote_model1_updates = remote_model1.get(\n",
    "    request_block=True\n",
    ").state_dict()\n",
    "\n",
    "print(remote_model1_updates)"
   ]
  },
  {
   "cell_type": "code",
   "execution_count": 15,
   "id": "af277a5c",
   "metadata": {},
   "outputs": [],
   "source": [
    "final_model = linearRegression(torch)"
   ]
  },
  {
   "cell_type": "markdown",
   "id": "6788d3b3",
   "metadata": {},
   "source": [
    "We instantiate a base model and update the parameters of this base model with the ones retrieve from Duet Data Owner data."
   ]
  },
  {
   "cell_type": "code",
   "execution_count": 16,
   "id": "291c518f",
   "metadata": {},
   "outputs": [],
   "source": [
    "final_model.load_state_dict(remote_model1_updates)"
   ]
  },
  {
   "cell_type": "markdown",
   "id": "7a4c6b85",
   "metadata": {},
   "source": [
    "## Step 5. Performance evaluation"
   ]
  },
  {
   "cell_type": "markdown",
   "id": "cac37920",
   "metadata": {},
   "source": [
    "Retrieve test dataset to evaluate the model."
   ]
  },
  {
   "cell_type": "code",
   "execution_count": 17,
   "id": "d890ee59",
   "metadata": {},
   "outputs": [],
   "source": [
    "x_test_data = X_test_ptr.get(request_block=True)\n",
    "y_test_data = Y_test_ptr.get(request_block=True)"
   ]
  },
  {
   "cell_type": "code",
   "execution_count": 19,
   "id": "daa3e0c2",
   "metadata": {},
   "outputs": [
    {
     "data": {
      "text/plain": [
       "(torch.Size([125, 1]), torch.Size([125, 1]))"
      ]
     },
     "execution_count": 19,
     "metadata": {},
     "output_type": "execute_result"
    }
   ],
   "source": [
    "x_test_data.shape, y_test_data.shape"
   ]
  },
  {
   "cell_type": "markdown",
   "id": "24d46203",
   "metadata": {},
   "source": [
    "Execute some predictions"
   ]
  },
  {
   "cell_type": "code",
   "execution_count": 20,
   "id": "2064cf9d",
   "metadata": {},
   "outputs": [
    {
     "name": "stdout",
     "output_type": "stream",
     "text": [
      "Prediction: 0.8583133220672607 Ground Truth: -24.165260314941406\n",
      "Prediction: 0.8604386448860168 Ground Truth: 11.418693542480469\n",
      "Prediction: 0.8553639054298401 Ground Truth: -15.858510971069336\n",
      "Prediction: 0.8693671226501465 Ground Truth: -0.13584725558757782\n",
      "Prediction: 0.857445478439331 Ground Truth: -3.936762809753418\n",
      "Prediction: 0.8577141165733337 Ground Truth: 41.63837432861328\n",
      "Prediction: 0.8622026443481445 Ground Truth: 11.748366355895996\n",
      "Prediction: 0.8607022762298584 Ground Truth: 34.149566650390625\n",
      "Prediction: 0.8611084818840027 Ground Truth: 29.03923225402832\n",
      "Prediction: 0.8676490783691406 Ground Truth: 16.36427116394043\n",
      "Prediction: 0.8554822206497192 Ground Truth: 5.5443549156188965\n",
      "Prediction: 0.8641954660415649 Ground Truth: 5.839398384094238\n",
      "Prediction: 0.8622543811798096 Ground Truth: -4.988951683044434\n",
      "Prediction: 0.866599440574646 Ground Truth: 22.329248428344727\n",
      "Prediction: 0.8543064594268799 Ground Truth: -55.02419662475586\n",
      "Prediction: 0.8646013140678406 Ground Truth: 1.0491513013839722\n",
      "Prediction: 0.8591634631156921 Ground Truth: -15.219635009765625\n",
      "Prediction: 0.8604073524475098 Ground Truth: -33.7796630859375\n",
      "Prediction: 0.8596640825271606 Ground Truth: 4.975320816040039\n",
      "Prediction: 0.8635224103927612 Ground Truth: 33.4587287902832\n",
      "Prediction: 0.8597416877746582 Ground Truth: 0.6357811093330383\n",
      "Prediction: 0.8591219782829285 Ground Truth: 24.33896827697754\n",
      "Prediction: 0.8617299795150757 Ground Truth: -3.608006000518799\n",
      "Prediction: 0.8543064594268799 Ground Truth: -55.02419662475586\n",
      "Prediction: 0.8612440824508667 Ground Truth: 6.544814586639404\n",
      "Prediction: 0.8557407259941101 Ground Truth: 23.665071487426758\n",
      "Prediction: 0.855760931968689 Ground Truth: -16.619112014770508\n",
      "Prediction: 0.8615977168083191 Ground Truth: 20.43669319152832\n",
      "Prediction: 0.8658841252326965 Ground Truth: -3.4212777614593506\n",
      "Prediction: 0.8579347133636475 Ground Truth: 31.82830238342285\n",
      "Prediction: 0.8648003935813904 Ground Truth: -11.900036811828613\n",
      "Prediction: 0.8625498414039612 Ground Truth: -8.17963981628418\n",
      "Prediction: 0.8601741790771484 Ground Truth: 28.29096031188965\n",
      "Prediction: 0.8604294061660767 Ground Truth: -26.08529281616211\n",
      "Prediction: 0.8541862964630127 Ground Truth: 48.559173583984375\n",
      "Prediction: 0.8620241284370422 Ground Truth: -14.060070037841797\n",
      "Prediction: 0.8619954586029053 Ground Truth: -1.0823687314987183\n",
      "Prediction: 0.8656690716743469 Ground Truth: -15.858016014099121\n",
      "Prediction: 0.8656176328659058 Ground Truth: 4.745833873748779\n",
      "Prediction: 0.8692511320114136 Ground Truth: 17.972410202026367\n",
      "Prediction: 0.8555850386619568 Ground Truth: 43.45159149169922\n",
      "Prediction: 0.8690269589424133 Ground Truth: 14.524029731750488\n",
      "Prediction: 0.8625163435935974 Ground Truth: 14.668492317199707\n",
      "Prediction: 0.85584557056427 Ground Truth: 35.04034423828125\n",
      "Prediction: 0.8633902668952942 Ground Truth: 22.67762565612793\n",
      "Prediction: 0.8595091104507446 Ground Truth: -34.28266906738281\n",
      "Prediction: 0.8589060306549072 Ground Truth: 11.455734252929688\n",
      "Prediction: 0.855760931968689 Ground Truth: -16.619112014770508\n",
      "Prediction: 0.8642784357070923 Ground Truth: 0.10584884881973267\n",
      "Prediction: 0.857060968875885 Ground Truth: 6.998138427734375\n",
      "Prediction: 0.8688198328018188 Ground Truth: -8.604551315307617\n",
      "Prediction: 0.8681035041809082 Ground Truth: 30.243038177490234\n",
      "Prediction: 0.8635227084159851 Ground Truth: -7.404505729675293\n",
      "Prediction: 0.8548159599304199 Ground Truth: 10.236370086669922\n",
      "Prediction: 0.8667768239974976 Ground Truth: -3.064687967300415\n",
      "Prediction: 0.8567550778388977 Ground Truth: -19.918941497802734\n",
      "Prediction: 0.8675405979156494 Ground Truth: -16.190223693847656\n",
      "Prediction: 0.8580684661865234 Ground Truth: 20.29929542541504\n",
      "Prediction: 0.8581748008728027 Ground Truth: -0.7518491744995117\n",
      "Prediction: 0.8623107075691223 Ground Truth: -10.597167015075684\n",
      "Prediction: 0.8639430403709412 Ground Truth: 22.35065269470215\n",
      "Prediction: 0.8542341589927673 Ground Truth: 35.75164794921875\n",
      "Prediction: 0.8618341088294983 Ground Truth: 17.01987075805664\n",
      "Prediction: 0.8579699993133545 Ground Truth: -14.060175895690918\n",
      "Prediction: 0.8570969104766846 Ground Truth: 81.29450988769531\n",
      "Prediction: 0.8674430251121521 Ground Truth: -7.743381500244141\n",
      "Prediction: 0.8575578331947327 Ground Truth: -29.703868865966797\n",
      "Prediction: 0.8574435114860535 Ground Truth: -22.015785217285156\n",
      "Prediction: 0.8581748008728027 Ground Truth: -0.7518491744995117\n",
      "Prediction: 0.8664725422859192 Ground Truth: 8.639222145080566\n",
      "Prediction: 0.8566509485244751 Ground Truth: -81.26871490478516\n",
      "Prediction: 0.8605529069900513 Ground Truth: -25.027496337890625\n",
      "Prediction: 0.8580629229545593 Ground Truth: 14.151793479919434\n",
      "Prediction: 0.8669689297676086 Ground Truth: -4.748561859130859\n",
      "Prediction: 0.8673829436302185 Ground Truth: -9.327136993408203\n",
      "Prediction: 0.8664044737815857 Ground Truth: 6.773610591888428\n",
      "Prediction: 0.8548159599304199 Ground Truth: 10.236370086669922\n",
      "Prediction: 0.8652854561805725 Ground Truth: 28.871688842773438\n",
      "Prediction: 0.8586857914924622 Ground Truth: -45.37840270996094\n",
      "Prediction: 0.8579403162002563 Ground Truth: 26.069326400756836\n",
      "Prediction: 0.8675678372383118 Ground Truth: 4.3858962059021\n",
      "Prediction: 0.862454891204834 Ground Truth: 2.1092584133148193\n",
      "Prediction: 0.8553868532180786 Ground Truth: 11.329010009765625\n",
      "Prediction: 0.8594522476196289 Ground Truth: -7.889622211456299\n",
      "Prediction: 0.8574489951133728 Ground Truth: -37.826080322265625\n",
      "Prediction: 0.8629817962646484 Ground Truth: -12.525389671325684\n",
      "Prediction: 0.8655685782432556 Ground Truth: 2.409156322479248\n",
      "Prediction: 0.8649511933326721 Ground Truth: 2.2193424701690674\n",
      "Prediction: 0.8556069731712341 Ground Truth: 41.290992736816406\n",
      "Prediction: 0.8659235239028931 Ground Truth: -3.024289608001709\n",
      "Prediction: 0.8684206604957581 Ground Truth: -4.423547267913818\n",
      "Prediction: 0.8542564511299133 Ground Truth: -28.0466251373291\n",
      "Prediction: 0.8655577301979065 Ground Truth: 13.399114608764648\n",
      "Prediction: 0.8641501069068909 Ground Truth: -4.968757152557373\n",
      "Prediction: 0.8612428903579712 Ground Truth: 31.638158798217773\n",
      "Prediction: 0.854401171207428 Ground Truth: -42.807861328125\n",
      "Prediction: 0.8562791347503662 Ground Truth: 48.471805572509766\n",
      "Prediction: 0.8557407259941101 Ground Truth: 23.665071487426758\n",
      "Prediction: 0.8700531721115112 Ground Truth: -11.370452880859375\n",
      "Prediction: 0.8633902668952942 Ground Truth: 22.67762565612793\n",
      "Prediction: 0.8557063341140747 Ground Truth: 12.676267623901367\n",
      "Prediction: 0.8546227812767029 Ground Truth: 0.0919489711523056\n",
      "Prediction: 0.8666411638259888 Ground Truth: -26.264362335205078\n",
      "Prediction: 0.8581923246383667 Ground Truth: -6.016131401062012\n",
      "Prediction: 0.8550125956535339 Ground Truth: 29.909833908081055\n",
      "Prediction: 0.8547251224517822 Ground Truth: -28.851287841796875\n",
      "Prediction: 0.8636063933372498 Ground Truth: -22.23487091064453\n",
      "Prediction: 0.8601107001304626 Ground Truth: -24.241600036621094\n",
      "Prediction: 0.8625452518463135 Ground Truth: 45.23127365112305\n",
      "Prediction: 0.8566161394119263 Ground Truth: -0.733465850353241\n",
      "Prediction: 0.8644428253173828 Ground Truth: -26.976058959960938\n",
      "Prediction: 0.8647108674049377 Ground Truth: 4.213796615600586\n",
      "Prediction: 0.8607667684555054 Ground Truth: 23.68741226196289\n",
      "Prediction: 0.8620850443840027 Ground Truth: 21.003890991210938\n",
      "Prediction: 0.857060968875885 Ground Truth: 6.998138427734375\n",
      "Prediction: 0.8655577301979065 Ground Truth: 13.399114608764648\n",
      "Prediction: 0.8681429028511047 Ground Truth: 8.506949424743652\n",
      "Prediction: 0.8668636083602905 Ground Truth: 12.895318031311035\n",
      "Prediction: 0.8541862964630127 Ground Truth: 48.559173583984375\n",
      "Prediction: 0.8620071411132812 Ground Truth: -3.617558002471924\n",
      "Prediction: 0.8557653427124023 Ground Truth: -19.813478469848633\n",
      "Prediction: 0.8659180402755737 Ground Truth: -19.312278747558594\n",
      "Prediction: 0.8686738014221191 Ground Truth: -1.4965358972549438\n",
      "Prediction: 0.8541610836982727 Ground Truth: -64.3814926147461\n",
      "Prediction: 0.8545745611190796 Ground Truth: -38.61610412597656\n"
     ]
    }
   ],
   "source": [
    "preds = []\n",
    "with torch.no_grad():\n",
    "    for i in range(len(x_test_data)):\n",
    "        sample = x_test_data[i]\n",
    "        y_hat = final_model(sample)\n",
    "\n",
    "        print(f\"Prediction: {y_hat.item()} Ground Truth: {y_test_data[i].item()}\")\n",
    "        preds.append(y_hat)"
   ]
  },
  {
   "cell_type": "markdown",
   "id": "85f48b29",
   "metadata": {},
   "source": [
    "### Visualization of predicted regression line"
   ]
  },
  {
   "cell_type": "code",
   "execution_count": 21,
   "id": "4e435b37",
   "metadata": {},
   "outputs": [],
   "source": [
    "syft_preds = final_model(x_test_data)"
   ]
  },
  {
   "cell_type": "code",
   "execution_count": 28,
   "id": "f638ea8f",
   "metadata": {},
   "outputs": [
    {
     "data": {
      "image/png": "[encoded data removed]",
      "text/plain": [
       "<Figure size 1008x432 with 1 Axes>"
      ]
     },
     "metadata": {
      "needs_background": "light"
     },
     "output_type": "display_data"
    }
   ],
   "source": [
    "import matplotlib.pyplot as plt\n",
    "\n",
    "\n",
    "plt.figure(figsize=(14,6))\n",
    "plt.title(\"Evaluation results\")\n",
    "#plt.plot(x_t, y_t, '.', alpha=0.5, color='green' ) \n",
    "plt.plot(x_test_data, y_test_data, '.', alpha=0.5, color='blue' ) \n",
    "plt.plot(x_test_data, syft_preds.detach().numpy(), color='black' ) \n",
    "plt.xlabel(r'$x$');\n",
    "plt.ylabel(r'$y$');\n",
    "plt.show()"
   ]
  },
  {
   "cell_type": "code",
   "execution_count": null,
   "id": "d28bb674",
   "metadata": {},
   "outputs": [],
   "source": []
  },
  {
   "cell_type": "code",
   "execution_count": null,
   "id": "082bd406",
   "metadata": {},
   "outputs": [],
   "source": []
  },
  {
   "cell_type": "code",
   "execution_count": null,
   "id": "8c41b2dd",
   "metadata": {},
   "outputs": [],
   "source": []
  },
  {
   "cell_type": "code",
   "execution_count": null,
   "id": "459de17f",
   "metadata": {},
   "outputs": [],
   "source": []
  },
  {
   "cell_type": "code",
   "execution_count": null,
   "id": "9346eb67",
   "metadata": {},
   "outputs": [],
   "source": []
  },
  {
   "cell_type": "code",
   "execution_count": null,
   "id": "30f338ac",
   "metadata": {},
   "outputs": [],
   "source": []
  },
  {
   "cell_type": "code",
   "execution_count": null,
   "id": "33719811",
   "metadata": {},
   "outputs": [],
   "source": []
  },
  {
   "cell_type": "code",
   "execution_count": null,
   "id": "338c51ff",
   "metadata": {},
   "outputs": [],
   "source": []
  },
  {
   "cell_type": "code",
   "execution_count": null,
   "id": "9d37e375",
   "metadata": {},
   "outputs": [],
   "source": []
  },
  {
   "cell_type": "code",
   "execution_count": null,
   "id": "b6b317c1",
   "metadata": {},
   "outputs": [],
   "source": []
  },
  {
   "cell_type": "code",
   "execution_count": null,
   "id": "292f871c",
   "metadata": {},
   "outputs": [],
   "source": []
  },
  {
   "cell_type": "code",
   "execution_count": null,
   "id": "06650738",
   "metadata": {},
   "outputs": [],
   "source": []
  },
  {
   "cell_type": "code",
   "execution_count": null,
   "id": "497a21de",
   "metadata": {},
   "outputs": [],
   "source": []
  },
  {
   "cell_type": "code",
   "execution_count": null,
   "id": "ed01aad7",
   "metadata": {},
   "outputs": [],
   "source": []
  },
  {
   "cell_type": "code",
   "execution_count": null,
   "id": "114399fa",
   "metadata": {},
   "outputs": [],
   "source": []
  },
  {
   "cell_type": "code",
   "execution_count": 4,
   "id": "going-exposure",
   "metadata": {},
   "outputs": [
    {
     "data": {
      "text/html": [
       "<div>\n",
       "<style scoped>\n",
       "    .dataframe tbody tr th:only-of-type {\n",
       "        vertical-align: middle;\n",
       "    }\n",
       "\n",
       "    .dataframe tbody tr th {\n",
       "        vertical-align: top;\n",
       "    }\n",
       "\n",
       "    .dataframe thead th {\n",
       "        text-align: right;\n",
       "    }\n",
       "</style>\n",
       "<table border=\"1\" class=\"dataframe\">\n",
       "  <thead>\n",
       "    <tr style=\"text-align: right;\">\n",
       "      <th></th>\n",
       "      <th>ID</th>\n",
       "      <th>Tags</th>\n",
       "      <th>Description</th>\n",
       "    </tr>\n",
       "  </thead>\n",
       "  <tbody>\n",
       "    <tr>\n",
       "      <th>0</th>\n",
       "      <td>&lt;UID: e5b6c9c74cb4408aa4f4953d8e5041da&gt;</td>\n",
       "      <td>[DO2 data]</td>\n",
       "      <td>Dataset of 5 samples, 1 feature</td>\n",
       "    </tr>\n",
       "  </tbody>\n",
       "</table>\n",
       "</div>"
      ],
      "text/plain": [
       "                                        ID        Tags  \\\n",
       "0  <UID: e5b6c9c74cb4408aa4f4953d8e5041da>  [DO2 data]   \n",
       "\n",
       "                       Description  \n",
       "0  Dataset of 5 samples, 1 feature  "
      ]
     },
     "execution_count": 4,
     "metadata": {},
     "output_type": "execute_result"
    }
   ],
   "source": [
    "duet2.store.pandas"
   ]
  },
  {
   "cell_type": "markdown",
   "id": "responsible-cradle",
   "metadata": {},
   "source": [
    "## Linear regression"
   ]
  },
  {
   "cell_type": "code",
   "execution_count": 5,
   "id": "qualified-technical",
   "metadata": {},
   "outputs": [
    {
     "name": "stdout",
     "output_type": "stream",
     "text": [
      "<syft.proxy.torch.TensorPointer object at 0x7fc7d9337c40>\n",
      "<syft.proxy.torch.TensorPointer object at 0x7fc7d96139a0>\n"
     ]
    }
   ],
   "source": [
    "data1_ptr = duet1.store[0]\n",
    "data2_ptr = duet2.store[0]\n",
    "\n",
    "print(data1_ptr)\n",
    "print(data2_ptr)"
   ]
  },
  {
   "cell_type": "markdown",
   "id": "seeing-savage",
   "metadata": {},
   "source": [
    "### Create Base Model"
   ]
  },
  {
   "cell_type": "code",
   "execution_count": 6,
   "id": "bizarre-portland",
   "metadata": {},
   "outputs": [],
   "source": [
    "import torch"
   ]
  },
  {
   "cell_type": "code",
   "execution_count": 7,
   "id": "advised-federal",
   "metadata": {},
   "outputs": [],
   "source": [
    "in_dim = 1\n",
    "out_dim = 1"
   ]
  },
  {
   "cell_type": "code",
   "execution_count": 8,
   "id": "sapphire-personal",
   "metadata": {},
   "outputs": [],
   "source": [
    "class SyNet(sy.Module):\n",
    "    def __init__(self, torch_ref):\n",
    "        super(SyNet, self).__init__(torch_ref=torch_ref)\n",
    "        self.linear = self.torch_ref.nn.Linear(in_dim, out_dim)\n",
    "\n",
    "    def forward(self, x):\n",
    "        x = self.linear(x)\n",
    "        return x"
   ]
  },
  {
   "cell_type": "markdown",
   "id": "rubber-factor",
   "metadata": {},
   "source": [
    "### Training"
   ]
  },
  {
   "cell_type": "code",
   "execution_count": 9,
   "id": "chinese-amount",
   "metadata": {},
   "outputs": [],
   "source": [
    "def train(iterations, model, torch_ref, optim, data_ptr, target_ptr):\n",
    "\n",
    "    losses = []\n",
    "\n",
    "    for i in range(iterations):\n",
    "\n",
    "        optim.zero_grad()\n",
    "\n",
    "        output = model(data_ptr)\n",
    "\n",
    "        loss = torch_ref.nn.functional.mse_loss(output, target_ptr)\n",
    "\n",
    "        loss_item = loss.item()\n",
    "\n",
    "        loss_value = loss_item.get(\n",
    "            reason=\"To evaluate training progress\",\n",
    "            request_block=True,\n",
    "            timeout_secs=5,\n",
    "        )\n",
    "\n",
    "        print(\"Epoch\", i, \"loss\", loss_value)\n",
    "\n",
    "        losses.append(loss_value)\n",
    "\n",
    "        loss.backward()\n",
    "\n",
    "        optim.step()\n",
    "\n",
    "    return losses"
   ]
  },
  {
   "cell_type": "markdown",
   "id": "creative-guide",
   "metadata": {},
   "source": [
    "#### Send one copy of the model to each data owner or client and train them remotely one by one"
   ]
  },
  {
   "cell_type": "code",
   "execution_count": 10,
   "id": "virgin-dayton",
   "metadata": {},
   "outputs": [],
   "source": [
    "import torch as th\n",
    "import numpy as np"
   ]
  },
  {
   "cell_type": "code",
   "execution_count": 11,
   "id": "proved-tumor",
   "metadata": {},
   "outputs": [
    {
     "name": "stdout",
     "output_type": "stream",
     "text": [
      "> Creating local model\n"
     ]
    }
   ],
   "source": [
    "base_model = SyNet(torch)"
   ]
  },
  {
   "cell_type": "markdown",
   "id": "armed-partner",
   "metadata": {},
   "source": [
    "Train on Data Owner 1 data"
   ]
  },
  {
   "cell_type": "code",
   "execution_count": 12,
   "id": "convinced-rogers",
   "metadata": {},
   "outputs": [
    {
     "name": "stdout",
     "output_type": "stream",
     "text": [
      "> Sending local model\n",
      "> Creating remote model\n",
      "  Sending local layer: linear\n",
      "\n",
      "> Finished sending local model <\n",
      "\n",
      "\n"
     ]
    }
   ],
   "source": [
    "remote_model1 = base_model.send(duet1)"
   ]
  },
  {
   "cell_type": "code",
   "execution_count": 13,
   "id": "cordless-singles",
   "metadata": {},
   "outputs": [],
   "source": [
    "remote_torch1 = duet1.torch\n",
    "params = remote_model1.parameters()\n",
    "optim1 = remote_torch1.optim.Adam(params=params, lr=0.1)"
   ]
  },
  {
   "cell_type": "markdown",
   "id": "average-spirit",
   "metadata": {},
   "source": [
    "Dummy target data"
   ]
  },
  {
   "cell_type": "code",
   "execution_count": 14,
   "id": "weird-carrier",
   "metadata": {},
   "outputs": [
    {
     "data": {
      "text/plain": [
       "tensor([[ 5.],\n",
       "        [10.],\n",
       "        [15.],\n",
       "        [22.],\n",
       "        [30.],\n",
       "        [38.]])"
      ]
     },
     "execution_count": 14,
     "metadata": {},
     "output_type": "execute_result"
    }
   ],
   "source": [
    "target1_ptr = th.FloatTensor(np.array([5, 10, 15, 22, 30, 38]).reshape(-1, 1))\n",
    "target1_ptr"
   ]
  },
  {
   "cell_type": "code",
   "execution_count": 15,
   "id": "clinical-cement",
   "metadata": {},
   "outputs": [
    {
     "name": "stdout",
     "output_type": "stream",
     "text": [
      "Epoch 0 loss 1050.6131591796875\n",
      "Epoch 1 loss 833.8958129882812\n",
      "Epoch 2 loss 643.0696411132812\n",
      "Epoch 3 loss 478.4125671386719\n",
      "Epoch 4 loss 339.91876220703125\n",
      "Epoch 5 loss 227.21815490722656\n",
      "Epoch 6 loss 139.4890899658203\n",
      "Epoch 7 loss 75.3707046508789\n",
      "Epoch 8 loss 32.8933219909668\n",
      "Epoch 9 loss 9.448577880859375\n"
     ]
    }
   ],
   "source": [
    "iteration = 10\n",
    "losses = train(iteration, remote_model1, remote_torch1, optim1, data1_ptr, target1_ptr)"
   ]
  },
  {
   "cell_type": "markdown",
   "id": "moral-election",
   "metadata": {},
   "source": [
    "Train on Data Owner 2 data"
   ]
  },
  {
   "cell_type": "code",
   "execution_count": 16,
   "id": "continental-carter",
   "metadata": {},
   "outputs": [
    {
     "name": "stdout",
     "output_type": "stream",
     "text": [
      "> Sending local model\n",
      "> Creating remote model\n",
      "  Sending local layer: linear\n",
      "\n",
      "> Finished sending local model <\n",
      "\n",
      "\n"
     ]
    }
   ],
   "source": [
    "remote_model2 = base_model.send(duet2)"
   ]
  },
  {
   "cell_type": "code",
   "execution_count": 17,
   "id": "cellular-century",
   "metadata": {},
   "outputs": [],
   "source": [
    "remote_torch2 = duet2.torch\n",
    "params = remote_model2.parameters()\n",
    "optim2 = remote_torch2.optim.Adam(params=params, lr=0.1)"
   ]
  },
  {
   "cell_type": "markdown",
   "id": "corporate-material",
   "metadata": {},
   "source": [
    "Dummy Target data"
   ]
  },
  {
   "cell_type": "code",
   "execution_count": 18,
   "id": "unlikely-digest",
   "metadata": {},
   "outputs": [
    {
     "data": {
      "text/plain": [
       "tensor([[35.],\n",
       "        [40.],\n",
       "        [45.],\n",
       "        [55.],\n",
       "        [60.]])"
      ]
     },
     "execution_count": 18,
     "metadata": {},
     "output_type": "execute_result"
    }
   ],
   "source": [
    "target2_ptr = th.FloatTensor(np.array([35, 40, 45, 55, 60]).reshape(-1, 1))\n",
    "target2_ptr"
   ]
  },
  {
   "cell_type": "code",
   "execution_count": 19,
   "id": "loose-aging",
   "metadata": {},
   "outputs": [
    {
     "name": "stdout",
     "output_type": "stream",
     "text": [
      "Epoch 0 loss 4783.2255859375\n",
      "Epoch 1 loss 3764.81591796875\n",
      "Epoch 2 loss 2872.36083984375\n",
      "Epoch 3 loss 2107.156494140625\n",
      "Epoch 4 loss 1469.0284423828125\n",
      "Epoch 5 loss 955.904296875\n",
      "Epoch 6 loss 563.3424682617188\n",
      "Epoch 7 loss 284.0714416503906\n",
      "Epoch 8 loss 107.63623046875\n",
      "Epoch 9 loss 20.289325714111328\n"
     ]
    }
   ],
   "source": [
    "iteration = 10\n",
    "losses = train(iteration, remote_model2, remote_torch2, optim2, data2_ptr, target2_ptr)"
   ]
  },
  {
   "cell_type": "markdown",
   "id": "grave-gravity",
   "metadata": {},
   "source": [
    "### Averaging Model Updates"
   ]
  },
  {
   "cell_type": "markdown",
   "id": "closed-bangladesh",
   "metadata": {},
   "source": [
    "Ideally, there will be a coordinator server with a secure aggreagtor who will get the model updates from different clients and make an aggregation. For the case of simplicity, in this example we will make the Data Sceintist server work as the coordinator."
   ]
  },
  {
   "cell_type": "markdown",
   "id": "hearing-passage",
   "metadata": {},
   "source": [
    "### Little sanity check!"
   ]
  },
  {
   "cell_type": "code",
   "execution_count": 20,
   "id": "eastern-silicon",
   "metadata": {},
   "outputs": [
    {
     "name": "stdout",
     "output_type": "stream",
     "text": [
      "Base Model parameters:\n",
      "[Parameter containing:\n",
      "tensor([[-0.2793]], requires_grad=True), Parameter containing:\n",
      "tensor([0.2700], requires_grad=True)]\n",
      "\n",
      "Remote model1 parameters:\n",
      "[Parameter containing:\n",
      "tensor([[0.6305]], requires_grad=True), Parameter containing:\n",
      "tensor([1.1781], requires_grad=True)]\n",
      "\n",
      "Remote model2 parameters:\n",
      "[Parameter containing:\n",
      "tensor([[0.6246]], requires_grad=True), Parameter containing:\n",
      "tensor([1.1733], requires_grad=True)]\n"
     ]
    }
   ],
   "source": [
    "param1 = remote_model1.parameters().get(request_block=True)\n",
    "param2 = remote_model2.parameters().get(request_block=True)\n",
    "\n",
    "print(\"Base Model parameters:\")\n",
    "print(base_model.parameters())\n",
    "print()\n",
    "\n",
    "print(\"Remote model1 parameters:\")\n",
    "print(param1)\n",
    "print()\n",
    "\n",
    "print(\"Remote model2 parameters:\")\n",
    "print(param2)"
   ]
  },
  {
   "cell_type": "markdown",
   "id": "preceding-beijing",
   "metadata": {},
   "source": [
    "As you can see, the remote model paramter values are different from the base model paramter values. That means the remote copies of our base model got trained and updated."
   ]
  },
  {
   "cell_type": "code",
   "execution_count": 21,
   "id": "afraid-bishop",
   "metadata": {},
   "outputs": [
    {
     "name": "stdout",
     "output_type": "stream",
     "text": [
      "> Downloading remote model\n",
      "> Creating local model\n",
      "  Downloading remote layer: linear\n",
      "\n",
      "> Finished downloading remote model <\n",
      "\n",
      "\n",
      "> Saving model weights\n",
      "> Finished saving weights\n",
      "OrderedDict([('linear.weight', tensor([[0.6305]])), ('linear.bias', tensor([1.1781]))])\n"
     ]
    }
   ],
   "source": [
    "remote_model1_updates = remote_model1.get(\n",
    "    request_block=True\n",
    ").state_dict()\n",
    "\n",
    "print(remote_model1_updates)"
   ]
  },
  {
   "cell_type": "code",
   "execution_count": 22,
   "id": "limiting-slope",
   "metadata": {},
   "outputs": [
    {
     "name": "stdout",
     "output_type": "stream",
     "text": [
      "> Downloading remote model\n",
      "> Creating local model\n",
      "  Downloading remote layer: linear\n",
      "\n",
      "> Finished downloading remote model <\n",
      "\n",
      "\n",
      "> Saving model weights\n",
      "> Finished saving weights\n",
      "OrderedDict([('linear.weight', tensor([[0.6246]])), ('linear.bias', tensor([1.1733]))])\n"
     ]
    }
   ],
   "source": [
    "remote_model2_updates = remote_model2.get(\n",
    "    request_block=True\n",
    ").state_dict()\n",
    "\n",
    "print(remote_model2_updates)"
   ]
  },
  {
   "cell_type": "code",
   "execution_count": 23,
   "id": "personalized-measure",
   "metadata": {},
   "outputs": [],
   "source": [
    "from collections import OrderedDict"
   ]
  },
  {
   "cell_type": "markdown",
   "id": "apparent-platform",
   "metadata": {},
   "source": [
    "Let's do the aggregation of the weights. In this example, we will just calculate the average of corresponding weights from each model."
   ]
  },
  {
   "cell_type": "code",
   "execution_count": 24,
   "id": "experimental-pulse",
   "metadata": {},
   "outputs": [
    {
     "name": "stdout",
     "output_type": "stream",
     "text": [
      "OrderedDict([('linear.weight', tensor([[0.6276]])), ('linear.bias', tensor([1.1757]))])\n"
     ]
    }
   ],
   "source": [
    "avg_updates = OrderedDict()\n",
    "avg_updates[\"linear.weight\"] = (\n",
    "    remote_model1_updates[\"linear.weight\"] + remote_model2_updates[\"linear.weight\"]\n",
    ") / 2\n",
    "avg_updates[\"linear.bias\"] = (\n",
    "    remote_model1_updates[\"linear.bias\"] + remote_model2_updates[\"linear.bias\"]\n",
    ") / 2\n",
    "\n",
    "print(avg_updates)"
   ]
  },
  {
   "cell_type": "markdown",
   "id": "approximate-scotland",
   "metadata": {},
   "source": [
    "### Load aggregated weights"
   ]
  },
  {
   "cell_type": "code",
   "execution_count": 25,
   "id": "hungarian-chess",
   "metadata": {},
   "outputs": [
    {
     "name": "stdout",
     "output_type": "stream",
     "text": [
      "> Creating local model\n"
     ]
    }
   ],
   "source": [
    "combined_model = SyNet(torch)"
   ]
  },
  {
   "cell_type": "code",
   "execution_count": 26,
   "id": "exempt-gathering",
   "metadata": {},
   "outputs": [
    {
     "name": "stdout",
     "output_type": "stream",
     "text": [
      "> Loading model weights\n",
      "linear state dict loaded with: <All keys matched successfully>\n",
      "> Finished loading weights\n"
     ]
    }
   ],
   "source": [
    "combined_model.load_state_dict(avg_updates)"
   ]
  },
  {
   "cell_type": "code",
   "execution_count": 27,
   "id": "beautiful-coating",
   "metadata": {},
   "outputs": [],
   "source": [
    "del avg_updates, remote_model1_updates, remote_model2_updates"
   ]
  },
  {
   "cell_type": "code",
   "execution_count": 28,
   "id": "compressed-employer",
   "metadata": {},
   "outputs": [],
   "source": [
    "test_data = th.FloatTensor(np.array([17, 25, 32, 50, 80]).reshape(-1, 1))\n",
    "test_target = th.FloatTensor(np.array([12, 15, 20, 30, 50]).reshape(-1, 1))"
   ]
  },
  {
   "cell_type": "code",
   "execution_count": 29,
   "id": "assured-amount",
   "metadata": {},
   "outputs": [
    {
     "name": "stdout",
     "output_type": "stream",
     "text": [
      "Prediction: 11.84467887878418 Ground Truth: 12.0\n",
      "Prediction: 16.86537742614746 Ground Truth: 15.0\n",
      "Prediction: 21.25848960876465 Ground Truth: 20.0\n",
      "Prediction: 32.5550651550293 Ground Truth: 30.0\n",
      "Prediction: 51.382686614990234 Ground Truth: 50.0\n"
     ]
    }
   ],
   "source": [
    "preds = []\n",
    "with torch.no_grad():\n",
    "    for i in range(len(test_data)):\n",
    "        sample = test_data[i]\n",
    "        y_hat = combined_model(sample)\n",
    "\n",
    "        print(f\"Prediction: {y_hat.item()} Ground Truth: {test_target[i].item()}\")\n",
    "        preds.append(y_hat)"
   ]
  },
  {
   "cell_type": "code",
   "execution_count": 30,
   "id": "charged-dragon",
   "metadata": {},
   "outputs": [
    {
     "name": "stdout",
     "output_type": "stream",
     "text": [
      "Prediction: -4.478724956512451 Ground Truth: 12.0\n",
      "Prediction: -6.713418483734131 Ground Truth: 15.0\n",
      "Prediction: -8.66877555847168 Ground Truth: 20.0\n",
      "Prediction: -13.696836471557617 Ground Truth: 30.0\n",
      "Prediction: -22.076936721801758 Ground Truth: 50.0\n"
     ]
    }
   ],
   "source": [
    "preds = []\n",
    "with torch.no_grad():\n",
    "    for i in range(len(test_data)):\n",
    "        sample = test_data[i]\n",
    "        y_hat = base_model(sample)\n",
    "\n",
    "        print(f\"Prediction: {y_hat.item()} Ground Truth: {test_target[i].item()}\")\n",
    "        preds.append(y_hat)"
   ]
  },
  {
   "cell_type": "code",
   "execution_count": null,
   "id": "loose-textbook",
   "metadata": {},
   "outputs": [],
   "source": []
  },
  {
   "cell_type": "code",
   "execution_count": null,
   "id": "genetic-diploma",
   "metadata": {},
   "outputs": [],
   "source": []
  },
  {
   "cell_type": "markdown",
   "id": "documented-italy",
   "metadata": {},
   "source": [
    "## Comparison to classical linear regression on centralised data"
   ]
  },
  {
   "cell_type": "code",
   "execution_count": null,
   "id": "external-recommendation",
   "metadata": {},
   "outputs": [],
   "source": [
    "import torch\n",
    "import numpy as np\n",
    "\n",
    "in_dim = 1\n",
    "out_dim = 1\n",
    "\n",
    "\n",
    "class ClassicalLR(torch.nn.Module):\n",
    "    def __init__(self, torch):\n",
    "        super(ClassicalLR, self).__init__()\n",
    "        self.linear = torch.nn.Linear(in_dim, out_dim)\n",
    "\n",
    "    def forward(self, x):\n",
    "        x = self.linear(x)\n",
    "        return x\n",
    "\n",
    "\n",
    "classical_model = ClassicalLR(torch)"
   ]
  },
  {
   "cell_type": "code",
   "execution_count": null,
   "id": "featured-antibody",
   "metadata": {},
   "outputs": [],
   "source": [
    "data = torch.FloatTensor(\n",
    "    np.array([5, 15, 25, 35, 45, 55, 60, 65, 75, 85, 95]).reshape(-1, 1)\n",
    ")\n",
    "target = torch.FloatTensor(\n",
    "    np.array([5, 10, 15, 22, 30, 38, 35, 40, 45, 55, 60]).reshape(-1, 1)\n",
    ")"
   ]
  },
  {
   "cell_type": "code",
   "execution_count": null,
   "id": "adopted-costs",
   "metadata": {},
   "outputs": [],
   "source": [
    "def classic_train(iterations, model, torch, optim, data, target, criterion):\n",
    "\n",
    "    losses = []\n",
    "\n",
    "    for i in range(iterations):\n",
    "\n",
    "        optim.zero_grad()\n",
    "\n",
    "        output = model(data)\n",
    "\n",
    "        loss = criterion(output, target)\n",
    "\n",
    "        loss_item = loss.item()\n",
    "\n",
    "        if i % 10 == 0:\n",
    "            print(\"Epoch\", i, \"loss\", loss_item)\n",
    "\n",
    "        losses.append(loss_item)\n",
    "\n",
    "        loss.backward()\n",
    "\n",
    "        optim.step()\n",
    "\n",
    "    return losses"
   ]
  },
  {
   "cell_type": "code",
   "execution_count": null,
   "id": "balanced-lawyer",
   "metadata": {},
   "outputs": [],
   "source": [
    "params = classical_model.parameters()\n",
    "optim = torch.optim.Adam(params=params, lr=0.1)\n",
    "criterion = torch.nn.MSELoss()"
   ]
  },
  {
   "cell_type": "code",
   "execution_count": null,
   "id": "technical-gasoline",
   "metadata": {},
   "outputs": [],
   "source": [
    "iteration = 100\n",
    "losses = classic_train(\n",
    "    iteration, classical_model, torch, optim, data, target, criterion\n",
    ")"
   ]
  },
  {
   "cell_type": "code",
   "execution_count": null,
   "id": "compound-airline",
   "metadata": {},
   "outputs": [],
   "source": [
    "test_data = th.FloatTensor(np.array([17, 25, 32, 50, 80]).reshape(-1, 1))\n",
    "test_target = th.FloatTensor(np.array([12, 15, 20, 30, 50]).reshape(-1, 1))"
   ]
  },
  {
   "cell_type": "code",
   "execution_count": null,
   "id": "prospective-blood",
   "metadata": {},
   "outputs": [],
   "source": [
    "preds = []\n",
    "with torch.no_grad():\n",
    "    for i in range(len(test_data)):\n",
    "        sample = test_data[i]\n",
    "        y_hat = classical_model(sample)\n",
    "\n",
    "        print(f\"Prediction: {y_hat.item()} Ground Truth: {test_target[i].item()}\")\n",
    "        preds.append(y_hat)"
   ]
  },
  {
   "cell_type": "code",
   "execution_count": null,
   "id": "veterinary-makeup",
   "metadata": {},
   "outputs": [],
   "source": []
  }
 ],
 "metadata": {
  "kernelspec": {
   "display_name": "Python 3 (ipykernel)",
   "language": "python",
   "name": "python3"
  },
  "language_info": {
   "codemirror_mode": {
    "name": "ipython",
    "version": 3
   },
   "file_extension": ".py",
   "mimetype": "text/x-python",
   "name": "python",
   "nbconvert_exporter": "python",
   "pygments_lexer": "ipython3",
   "version": "3.9.7"
  }
 },
 "nbformat": 4,
 "nbformat_minor": 5
}
