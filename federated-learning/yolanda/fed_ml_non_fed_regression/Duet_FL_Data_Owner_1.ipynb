{
 "cells": [
  {
   "cell_type": "markdown",
   "id": "continent-climb",
   "metadata": {},
   "source": [
    "# Part 1: Launch a Duet Server and upload data"
   ]
  },
  {
   "cell_type": "code",
   "execution_count": 1,
   "id": "parental-classics",
   "metadata": {
    "scrolled": false
   },
   "outputs": [
    {
     "name": "stdout",
     "output_type": "stream",
     "text": [
      "🎤  🎸  ♪♪♪ Starting Duet ♫♫♫  🎻  🎹\n",
      "\n",
      "♫♫♫ >\u001b[93m DISCLAIMER\u001b[0m: \u001b[1mDuet is an experimental feature currently in beta.\n",
      "♫♫♫ > Use at your own risk.\n",
      "\u001b[0m\n",
      "\u001b[1m\n",
      "    > ❤️ \u001b[91mLove\u001b[0m \u001b[92mDuet\u001b[0m? \u001b[93mPlease\u001b[0m \u001b[94mconsider\u001b[0m \u001b[95msupporting\u001b[0m \u001b[91mour\u001b[0m \u001b[93mcommunity!\u001b[0m\n",
      "    > https://github.com/sponsors/OpenMined\u001b[1m\n",
      "\n",
      "♫♫♫ > Punching through firewall to OpenGrid Network Node at:\n",
      "♫♫♫ > http://52.19.68.70:5000\n",
      "♫♫♫ >\n",
      "♫♫♫ > ...waiting for response from OpenGrid Network... \n",
      "♫♫♫ > \u001b[92mDONE!\u001b[0m\n",
      "♫♫♫ > Duet Server ID: \u001b[1me22d0fbaec9bfe339f4aaa58c7af83cf\u001b[0m\n",
      "\n",
      "♫♫♫ > \u001b[95mSTEP 1:\u001b[0m Send the following code to your Duet Partner!\n",
      "\n",
      "import syft as sy\n",
      "duet = sy.duet(\"\u001b[1me22d0fbaec9bfe339f4aaa58c7af83cf\u001b[0m\")\n",
      "\n",
      "♫♫♫ > \u001b[95mSTEP 2:\u001b[0m Ask your partner for their Client ID and enter it below!\n",
      "♫♫♫ > Duet Partner's Client ID: a2e3078377de813a984bda2dc82ade85\n",
      "\n",
      "♫♫♫ > Connecting...\n",
      "\n",
      "♫♫♫ > \u001b[92mCONNECTED!\u001b[0m\n",
      "\n",
      "♫♫♫ > DUET LIVE STATUS  -  Objects: 5  Requests: 0   Messages: 211  Request Handlers: 1                                                          \r"
     ]
    }
   ],
   "source": [
    "import syft as sy\n",
    "duet = sy.duet(network_url=\"http://52.19.68.70:5000\")"
   ]
  },
  {
   "cell_type": "code",
   "execution_count": 2,
   "id": "dying-switch",
   "metadata": {},
   "outputs": [
    {
     "name": "stdout",
     "output_type": "stream",
     "text": [
      "♫♫♫ > DUET LIVE STATUS  *  Objects: 0  Requests: 0   Messages: 0  Request Handlers: 0                                \r"
     ]
    }
   ],
   "source": [
    "import numpy as np\n",
    "import matplotlib.pyplot as plt\n",
    "import pandas as pd\n",
    "import sklearn.metrics as m \n",
    "import seaborn as sns\n",
    "np.random.seed(4567)\n",
    "\n",
    "import torch\n",
    "import torch.nn as nn\n",
    "from torch.autograd import Variable\n",
    "import torch.functional as F\n",
    "from torch.utils.data import TensorDataset, DataLoader\n",
    "from torch.utils.data.sampler import SubsetRandomSampler\n",
    "\n",
    "\n",
    "# we create some dicts to store losses\n",
    "torch_loss_stats = {\n",
    "    'torch loss train': [],\n",
    "    'torch loss val': []\n",
    "}\n",
    "\n",
    "syft_loss_stats = {\n",
    "    'syft loss train': [],\n",
    "    'syft loss val': []\n",
    "}"
   ]
  },
  {
   "cell_type": "markdown",
   "id": "2a32c167",
   "metadata": {},
   "source": [
    "### Step.1. Dataset creation and preparation\n",
    "We will generate a simple regression dataset y = a*x + b. with some gaussian noise.\n",
    "\n"
   ]
  },
  {
   "cell_type": "markdown",
   "id": "86d54e9a",
   "metadata": {},
   "source": [
    "#### 1.1. Generate synthetic dataset"
   ]
  },
  {
   "cell_type": "code",
   "execution_count": 3,
   "id": "81e60700",
   "metadata": {},
   "outputs": [],
   "source": [
    "n_samples = 500\n",
    "x_ = np.sort(np.random.random(size=n_samples))\n",
    "\n",
    "# create the true signal to be learned\n",
    "coeff_ = 2\n",
    "bias_ = 1\n",
    "y_ = coeff_*x_ + bias_\n",
    "\n",
    "# y = a*x + b with noise\n",
    "wh_noise = np.random.normal(scale=10, size=n_samples)\n",
    "y = y_  * wh_noise"
   ]
  },
  {
   "cell_type": "markdown",
   "id": "4ba94122",
   "metadata": {},
   "source": [
    "#### 1.2. Split the dataset in training and validation\n",
    "We will use 25% data points for validation and the rest for training."
   ]
  },
  {
   "cell_type": "code",
   "execution_count": 4,
   "id": "8c36b581",
   "metadata": {},
   "outputs": [],
   "source": [
    "val_pts = int(len(y)*0.25)\n",
    "\n",
    "sample_idx = np.random.choice(range(0, len(y)), len(y))\n",
    "training_idx, val_idx = sample_idx[val_pts:], sample_idx[:val_pts]\n",
    "\n",
    "x_val, x = x_[val_idx], x_[training_idx]\n",
    "y_val, y = y[val_idx], y[training_idx]"
   ]
  },
  {
   "cell_type": "code",
   "execution_count": 5,
   "id": "bcd5dc8f",
   "metadata": {},
   "outputs": [
    {
     "data": {
      "text/plain": [
       "(125, 375)"
      ]
     },
     "execution_count": 5,
     "metadata": {},
     "output_type": "execute_result"
    }
   ],
   "source": [
    "len(x_val), len(x)"
   ]
  },
  {
   "cell_type": "code",
   "execution_count": 6,
   "id": "b9065949",
   "metadata": {},
   "outputs": [
    {
     "data": {
      "image/png": "[encoded data removed]",
      "text/plain": [
       "<Figure size 1008x432 with 1 Axes>"
      ]
     },
     "metadata": {
      "needs_background": "light"
     },
     "output_type": "display_data"
    }
   ],
   "source": [
    "plt.figure(figsize=(14,6))\n",
    "plt.title(\"Synthetic linear regression data - training and validation\")\n",
    "train, = plt.plot(x, y, '.', color='green', label='training data') \n",
    "val, = plt.plot(x_val, y_val, '.', color='blue', label='validation data') \n",
    "true_line, = plt.plot(x_, y_, color='red', label='true regression line') \n",
    "plt.xlabel(r'$x$');\n",
    "plt.ylabel(r'$y$');\n",
    "plt.legend(handles=[train, val, true_line])\n",
    "plt.show()"
   ]
  },
  {
   "cell_type": "markdown",
   "id": "6314304d",
   "metadata": {},
   "source": [
    "We have a syntethic regression dataset with gaussian multiplicative noise. 125 data points are for validation and 375 for training."
   ]
  },
  {
   "cell_type": "markdown",
   "id": "938242ae",
   "metadata": {},
   "source": [
    "#### 1.3. Create PyTorch Dataset¶\n",
    "We transform the numpy vectors into tensors."
   ]
  },
  {
   "cell_type": "code",
   "execution_count": 7,
   "id": "9dfc7bed",
   "metadata": {},
   "outputs": [
    {
     "data": {
      "text/plain": [
       "(torch.Size([375, 1]), torch.Size([375, 1]))"
      ]
     },
     "execution_count": 7,
     "metadata": {},
     "output_type": "execute_result"
    }
   ],
   "source": [
    "x_train, y_train = torch.from_numpy(x.reshape(-1,1).astype('float32')), torch.from_numpy(y.reshape(-1,1).astype('float32'))\n",
    "x_test, y_test =  torch.from_numpy(x_val.reshape(-1,1).astype('float32')), torch.from_numpy(y_val.reshape(-1,1).astype('float32'))\n",
    "x_train.shape, y_train.shape"
   ]
  },
  {
   "cell_type": "markdown",
   "id": "60b38671",
   "metadata": {},
   "source": [
    "#### 1.4 Document the dataset"
   ]
  },
  {
   "cell_type": "markdown",
   "id": "459c9fa3",
   "metadata": {},
   "source": [
    "We need to add some valuable information for the data scientist"
   ]
  },
  {
   "cell_type": "markdown",
   "id": "8573bbe6",
   "metadata": {},
   "source": [
    "##### training dataset"
   ]
  },
  {
   "cell_type": "code",
   "execution_count": 8,
   "id": "f4ea2676",
   "metadata": {},
   "outputs": [],
   "source": [
    "x_train = x_train.tag(\"x_data_train\")\n",
    "x_train = x_train.describe(\"X Train - synthetic regression dataset\")\n",
    "\n",
    "y_train = y_train.tag(\"y_data_train\")\n",
    "y_train = y_train.describe(\"Y Train - synthetic regression dataset\")"
   ]
  },
  {
   "cell_type": "markdown",
   "id": "fa01c28c",
   "metadata": {},
   "source": [
    "##### testing dataset"
   ]
  },
  {
   "cell_type": "code",
   "execution_count": 9,
   "id": "a45ca8fd",
   "metadata": {},
   "outputs": [],
   "source": [
    "x_test = x_test.tag(\"x_data_test\")\n",
    "x_test = x_test.describe(\"X Test - synthetic regression dataset\")\n",
    "\n",
    "y_test = y_test.tag(\"y_data_test\")\n",
    "y_test = y_test.describe(\"Y Test - synthetic regression dataset\")"
   ]
  },
  {
   "cell_type": "markdown",
   "id": "cde497c9",
   "metadata": {},
   "source": [
    "#### 1.5 Send the dataset to the (network) store"
   ]
  },
  {
   "cell_type": "code",
   "execution_count": 10,
   "id": "76478246",
   "metadata": {},
   "outputs": [],
   "source": [
    "x_train_ptr = x_train.send(duet, pointable=True) # we have to make it searchable\n",
    "y_train_ptr = y_train.send(duet, pointable=True)\n",
    "\n",
    "x_test_ptr = x_test.send(duet, pointable=True) # we have to make it searchable\n",
    "y_test_ptr = y_test.send(duet, pointable=True)"
   ]
  },
  {
   "cell_type": "code",
   "execution_count": 11,
   "id": "48fd8f36",
   "metadata": {},
   "outputs": [
    {
     "data": {
      "text/html": [
       "<div>\n",
       "<style scoped>\n",
       "    .dataframe tbody tr th:only-of-type {\n",
       "        vertical-align: middle;\n",
       "    }\n",
       "\n",
       "    .dataframe tbody tr th {\n",
       "        vertical-align: top;\n",
       "    }\n",
       "\n",
       "    .dataframe thead th {\n",
       "        text-align: right;\n",
       "    }\n",
       "</style>\n",
       "<table border=\"1\" class=\"dataframe\">\n",
       "  <thead>\n",
       "    <tr style=\"text-align: right;\">\n",
       "      <th></th>\n",
       "      <th>ID</th>\n",
       "      <th>Tags</th>\n",
       "      <th>Description</th>\n",
       "      <th>object_type</th>\n",
       "    </tr>\n",
       "  </thead>\n",
       "  <tbody>\n",
       "    <tr>\n",
       "      <th>0</th>\n",
       "      <td>&lt;UID: 48484ccdfd824753ab4615650e3b19fd&gt;</td>\n",
       "      <td>[x_data_train]</td>\n",
       "      <td>X Train - synthetic regression dataset</td>\n",
       "      <td>&lt;class 'torch.Tensor'&gt;</td>\n",
       "    </tr>\n",
       "    <tr>\n",
       "      <th>1</th>\n",
       "      <td>&lt;UID: 80e284f551d74562a47b0f5d0485e606&gt;</td>\n",
       "      <td>[y_data_train]</td>\n",
       "      <td>Y Train - synthetic regression dataset</td>\n",
       "      <td>&lt;class 'torch.Tensor'&gt;</td>\n",
       "    </tr>\n",
       "    <tr>\n",
       "      <th>2</th>\n",
       "      <td>&lt;UID: 48c985b098ea459f9f3e8f1fc2287779&gt;</td>\n",
       "      <td>[x_data_test]</td>\n",
       "      <td>X Test - synthetic regression dataset</td>\n",
       "      <td>&lt;class 'torch.Tensor'&gt;</td>\n",
       "    </tr>\n",
       "    <tr>\n",
       "      <th>3</th>\n",
       "      <td>&lt;UID: b030dc0de3404c42a581a27427cc1263&gt;</td>\n",
       "      <td>[y_data_test]</td>\n",
       "      <td>Y Test - synthetic regression dataset</td>\n",
       "      <td>&lt;class 'torch.Tensor'&gt;</td>\n",
       "    </tr>\n",
       "  </tbody>\n",
       "</table>\n",
       "</div>"
      ],
      "text/plain": [
       "                                        ID            Tags  \\\n",
       "0  <UID: 48484ccdfd824753ab4615650e3b19fd>  [x_data_train]   \n",
       "1  <UID: 80e284f551d74562a47b0f5d0485e606>  [y_data_train]   \n",
       "2  <UID: 48c985b098ea459f9f3e8f1fc2287779>   [x_data_test]   \n",
       "3  <UID: b030dc0de3404c42a581a27427cc1263>   [y_data_test]   \n",
       "\n",
       "                              Description             object_type  \n",
       "0  X Train - synthetic regression dataset  <class 'torch.Tensor'>  \n",
       "1  Y Train - synthetic regression dataset  <class 'torch.Tensor'>  \n",
       "2   X Test - synthetic regression dataset  <class 'torch.Tensor'>  \n",
       "3   Y Test - synthetic regression dataset  <class 'torch.Tensor'>  "
      ]
     },
     "execution_count": 11,
     "metadata": {},
     "output_type": "execute_result"
    }
   ],
   "source": [
    "duet.store.pandas"
   ]
  },
  {
   "cell_type": "code",
   "execution_count": 12,
   "id": "56348576",
   "metadata": {},
   "outputs": [
    {
     "name": "stdout",
     "output_type": "stream",
     "text": [
      "\r",
      "♫♫♫ > DUET LIVE STATUS  -  Objects: 4  Requests: 0   Messages: 5  Request Handlers: 0                                \r"
     ]
    },
    {
     "name": "stderr",
     "output_type": "stream",
     "text": [
      "[2021-09-30T14:54:16.530327+0000][CRITICAL][logger]][1671] > HANDLER Request <UID: 0e8eb9add2fd42f49a87eebd4d6cbae2>: To evaluate training progress\n",
      "Value: <Storable: 446.00042724609375>\n",
      "[2021-09-30T14:54:17.177551+0000][CRITICAL][logger]][1671] > HANDLER Request <UID: 2b4659557ad34453b2b97c316eee83fc>: To evaluate training progress\n",
      "Value: <Storable: 445.6488037109375>\n",
      "[2021-09-30T14:54:17.654218+0000][CRITICAL][logger]][1671] > HANDLER Request <UID: d5cbf485bb58413fb235a872a555d292>: To evaluate training progress\n",
      "Value: <Storable: 445.3446350097656>\n",
      "[2021-09-30T14:54:18.870023+0000][CRITICAL][logger]][1671] > HANDLER Request <UID: bf7c030a6df748dab1bf947ecd23a03f>: To evaluate training progress\n",
      "Value: <Storable: 445.0885925292969>\n",
      "[2021-09-30T14:54:20.026418+0000][CRITICAL][logger]][1671] > HANDLER Request <UID: 43090131cf4646898a0729bf3965d903>: To evaluate training progress\n",
      "Value: <Storable: 444.8802795410156>\n",
      "[2021-09-30T14:54:20.537577+0000][CRITICAL][logger]][1671] > HANDLER Request <UID: 894f59104ad54e409714cd707aeb3146>: To evaluate training progress\n",
      "Value: <Storable: 444.718505859375>\n",
      "[2021-09-30T14:54:21.749893+0000][CRITICAL][logger]][1671] > HANDLER Request <UID: 433fee9ee9be445b9a9fc1b308d2f98c>: To evaluate training progress\n",
      "Value: <Storable: 444.600830078125>\n",
      "[2021-09-30T14:54:22.269424+0000][CRITICAL][logger]][1671] > HANDLER Request <UID: f80418b3099640238ca30d404e00054c>: To evaluate training progress\n",
      "Value: <Storable: 444.5234680175781>\n",
      "[2021-09-30T14:54:24.492101+0000][CRITICAL][logger]][1671] > HANDLER Request <UID: 1ad79c91cd94466b92bfbdaf655b59e9>: To evaluate training progress\n",
      "Value: <Storable: 444.4811706542969>\n",
      "[2021-09-30T14:54:25.699306+0000][CRITICAL][logger]][1671] > HANDLER Request <UID: 10a9afbb1ec54845ad5a58583341cb2c>: To evaluate training progress\n",
      "Value: <Storable: 444.4670104980469>\n",
      "[2021-09-30T14:54:30.236833+0000][CRITICAL][logger]][1671] > HANDLER Request <UID: ddb5f78315784010b17e891cddcfa4cf>:\n",
      "Value: <Storable: [Parameter containing:tensor([[-0.0161]], requires_grad=True), Parameter containing:tensor([0.8701], requires_grad=True)]>\n",
      "[2021-09-30T14:54:37.686225+0000][CRITICAL][logger]][1671] > HANDLER Request <UID: 09ff4237453f41b8abe841d392163aef>:\n",
      "Value: <Storable: 'in_features=1, out_features=1, bias=True'>\n",
      "[2021-09-30T14:54:37.977972+0000][CRITICAL][logger]][1671] > HANDLER Request <UID: a973e3d4ee1947758f6893c3fae7855c>:\n",
      "Value: <Storable: OrderedDict([('weight', tensor([[-0.0161]])), ('bias', tensor([0.8701]))])>\n",
      "[2021-09-30T14:59:46.420526+0000][CRITICAL][logger]][1671] > HANDLER Request <UID: 41727ce209fe418c934a9d5ee160ef2d>:\n",
      "Value: <Storable: tensor([[0.7313],    [0.5993],    [0.9143],    [0.0452],    [0.7851],    [0.7684],    [0.4899],    [0.5830],    [0.5578],    [0.1518],    [0.9070],    [0.3662],    [0.4866],    [0.2170],    [0.9799],    [0.3410],    [0.6785],    [0.6013],    [0.6474],    [0.4079],    [0.6426],    [0.6811],    [0.5192],    [0.9799],    [0.5494],    [0.8909],    [0.8897],    [0.5274],    [0.2614],    [0.7548],    [0.3286],    [0.4683],    [0.6158],    [0.5999],    [0.9874],    [0.5009],    [0.5027],    [0.2747],    [0.2779],    [0.0524],    [0.9006],    [0.0663],    [0.4704],    [0.8844],    [0.4161],    [0.6570],    [0.6945],    [0.8897],    [0.3610],    [0.8090],    [0.0792],    [0.1236],    [0.4079],    [0.9483],    [0.2060],    [0.8280],    [0.1585],    [0.7465],    [0.7398],    [0.4831],    [0.3818],    [0.9844],    [0.5127],    [0.7526],    [0.8068],    [0.1646],    [0.7781],    [0.7852],    [0.7398],    [0.2248],    [0.8344],    [0.5922],    [0.7468],    [0.1940],    [0.1683],    [0.2291],    [0.9483],    [0.2985],    [0.7081],    [0.7544],    [0.1569],    [0.4742],    [0.9129],    [0.6606],    [0.7849],    [0.4415],    [0.2809],    [0.3193],    [0.8992],    [0.2589],    [0.1039],    [0.9831],    [0.2816],    [0.3690],    [0.5494],    [0.9741],    [0.8575],    [0.8909],    [0.0026],    [0.4161],    [0.8931],    [0.9603],    [0.2144],    [0.7388],    [0.9361],    [0.9540],    [0.4027],    [0.6197],    [0.4686],    [0.8366],    [0.3508],    [0.3342],    [0.5790],    [0.4972],    [0.8090],    [0.2816],    [0.1212],    [0.2006],    [0.9874],    [0.5020],    [0.8894],    [0.2593],    [0.0882],    [0.9890],    [0.9633]])>\n",
      "[2021-09-30T14:59:46.797174+0000][CRITICAL][logger]][1671] > HANDLER Request <UID: 4d73d232b93a496b9cb2533aa687db90>:\n",
      "Value: <Storable: tensor([[-24.1653],    [ 11.4187],    [-15.8585],    [ -0.1358],    [ -3.9368],    [ 41.6384],    [ 11.7484],    [ 34.1496],    [ 29.0392],    [ 16.3643],    [ 5.5444],    [ 5.8394],    [ -4.9890],    [ 22.3292],    [-55.0242],    [ 1.0492],    [-15.2196],    [-33.7797],    [ 4.9753],    [ 33.4587],    [ 0.6358],    [ 24.3390],    [ -3.6080],    [-55.0242],    [ 6.5448],    [ 23.6651],    [-16.6191],    [ 20.4367],    [ -3.4213],    [ 31.8283],    [-11.9000],    [ -8.1796],    [ 28.2910],    [-26.0853],    [ 48.5592],    [-14.0601],    [ -1.0824],    [-15.8580],    [ 4.7458],    [ 17.9724],    [ 43.4516],    [ 14.5240],    [ 14.6685],    [ 35.0403],    [ 22.6776],    [-34.2827],    [ 11.4557],    [-16.6191],    [ 0.1058],    [ 6.9981],    [ -8.6046],    [ 30.2430],    [ -7.4045],    [ 10.2364],    [ -3.0647],    [-19.9189],    [-16.1902],    [ 20.2993],    [ -0.7518],    [-10.5972],    [ 22.3507],    [ 35.7516],    [ 17.0199],    [-14.0602],    [ 81.2945],    [ -7.7434],    [-29.7039],    [-22.0158],    [ -0.7518],    [ 8.6392],    [-81.2687],    [-25.0275],    [ 14.1518],    [ -4.7486],    [ -9.3271],    [ 6.7736],    [ 10.2364],    [ 28.8717],    [-45.3784],    [ 26.0693],    [ 4.3859],    [ 2.1093],    [ 11.3290],    [ -7.8896],    [-37.8261],    [-12.5254],    [ 2.4092],    [ 2.2193],    [ 41.2910],    [ -3.0243],    [ -4.4235],    [-28.0466],    [ 13.3991],    [ -4.9688],    [ 31.6382],    [-42.8079],    [ 48.4718],    [ 23.6651],    [-11.3705],    [ 22.6776],    [ 12.6763],    [ 0.0919],    [-26.2644],    [ -6.0161],    [ 29.9098],    [-28.8513],    [-22.2349],    [-24.2416],    [ 45.2313],    [ -0.7335],    [-26.9761],    [ 4.2138],    [ 23.6874],    [ 21.0039],    [ 6.9981],    [ 13.3991],    [ 8.5069],    [ 12.8953],    [ 48.5592],    [ -3.6176],    [-19.8135],    [-19.3123],    [ -1.4965],    [-64.3815],    [-38.6161]])>\n"
     ]
    }
   ],
   "source": [
    "duet.requests.add_handler(\n",
    "    action=\"accept\",\n",
    "    print_local=True,  # print the result in your notebook\n",
    ")"
   ]
  },
  {
   "cell_type": "markdown",
   "id": "6f865207",
   "metadata": {},
   "source": [
    "##### ------------------------------------------------------------------------------------------------"
   ]
  },
  {
   "cell_type": "markdown",
   "id": "6d2082ee",
   "metadata": {},
   "source": [
    "#### END DATA OWNER NOTEBOOK"
   ]
  },
  {
   "cell_type": "code",
   "execution_count": null,
   "id": "732ba222",
   "metadata": {},
   "outputs": [],
   "source": []
  },
  {
   "cell_type": "code",
   "execution_count": null,
   "id": "49e47b82",
   "metadata": {},
   "outputs": [],
   "source": []
  },
  {
   "cell_type": "code",
   "execution_count": null,
   "id": "46fe95cc",
   "metadata": {},
   "outputs": [],
   "source": []
  },
  {
   "cell_type": "code",
   "execution_count": null,
   "id": "3ba8c8c1",
   "metadata": {},
   "outputs": [],
   "source": []
  },
  {
   "cell_type": "code",
   "execution_count": null,
   "id": "d46516b3",
   "metadata": {},
   "outputs": [],
   "source": []
  },
  {
   "cell_type": "code",
   "execution_count": null,
   "id": "87fe9806",
   "metadata": {},
   "outputs": [],
   "source": []
  },
  {
   "cell_type": "code",
   "execution_count": null,
   "id": "5d18a816",
   "metadata": {},
   "outputs": [],
   "source": []
  },
  {
   "cell_type": "code",
   "execution_count": null,
   "id": "a39eebf9",
   "metadata": {},
   "outputs": [],
   "source": []
  },
  {
   "cell_type": "code",
   "execution_count": null,
   "id": "b374a290",
   "metadata": {},
   "outputs": [],
   "source": []
  },
  {
   "cell_type": "code",
   "execution_count": 3,
   "id": "focused-error",
   "metadata": {},
   "outputs": [],
   "source": [
    "data = th.FloatTensor(np.array([5, 15, 25, 35, 45, 55]).reshape(-1, 1))\n",
    "\n",
    "data = data.tag(\"DO1 data\")\n",
    "data = data.describe(\"Dataset of 6 samples, 1 feature\")\n",
    "\n",
    "data_ptr = data.send(duet, searchable=True)"
   ]
  },
  {
   "cell_type": "code",
   "execution_count": 4,
   "id": "circular-commodity",
   "metadata": {},
   "outputs": [
    {
     "data": {
      "text/html": [
       "<div>\n",
       "<style scoped>\n",
       "    .dataframe tbody tr th:only-of-type {\n",
       "        vertical-align: middle;\n",
       "    }\n",
       "\n",
       "    .dataframe tbody tr th {\n",
       "        vertical-align: top;\n",
       "    }\n",
       "\n",
       "    .dataframe thead th {\n",
       "        text-align: right;\n",
       "    }\n",
       "</style>\n",
       "<table border=\"1\" class=\"dataframe\">\n",
       "  <thead>\n",
       "    <tr style=\"text-align: right;\">\n",
       "      <th></th>\n",
       "      <th>ID</th>\n",
       "      <th>Tags</th>\n",
       "      <th>Description</th>\n",
       "    </tr>\n",
       "  </thead>\n",
       "  <tbody>\n",
       "    <tr>\n",
       "      <th>0</th>\n",
       "      <td>&lt;UID: 95b50c81d41f48f280bfb4ed88ff3c62&gt;</td>\n",
       "      <td>[DO1 data]</td>\n",
       "      <td>Dataset of 6 samples, 1 feature</td>\n",
       "    </tr>\n",
       "  </tbody>\n",
       "</table>\n",
       "</div>"
      ],
      "text/plain": [
       "                                        ID        Tags  \\\n",
       "0  <UID: 95b50c81d41f48f280bfb4ed88ff3c62>  [DO1 data]   \n",
       "\n",
       "                       Description  \n",
       "0  Dataset of 6 samples, 1 feature  "
      ]
     },
     "execution_count": 4,
     "metadata": {},
     "output_type": "execute_result"
    }
   ],
   "source": [
    "duet.store.pandas"
   ]
  },
  {
   "cell_type": "code",
   "execution_count": 5,
   "id": "undefined-keeping",
   "metadata": {},
   "outputs": [
    {
     "data": {
      "text/plain": [
       "tensor([[ 5.],\n",
       "        [15.],\n",
       "        [25.],\n",
       "        [35.],\n",
       "        [45.],\n",
       "        [55.]])"
      ]
     },
     "execution_count": 5,
     "metadata": {},
     "output_type": "execute_result"
    }
   ],
   "source": [
    "data"
   ]
  },
  {
   "cell_type": "code",
   "execution_count": 6,
   "id": "thousand-borough",
   "metadata": {},
   "outputs": [
    {
     "name": "stdout",
     "output_type": "stream",
     "text": [
      "> HANDLER Request : To evaluate training progress\n",
      "Value: 1050.6131591796875\n",
      "> HANDLER Request : To evaluate training progress\n",
      "Value: 833.8958129882812\n",
      "> HANDLER Request : To evaluate training progress\n",
      "Value: 643.0696411132812\n",
      "> HANDLER Request : To evaluate training progress\n",
      "Value: 478.4125671386719\n",
      "> HANDLER Request : To evaluate training progress\n",
      "Value: 339.91876220703125\n",
      "> HANDLER Request : To evaluate training progress\n",
      "Value: 227.21815490722656\n",
      "> HANDLER Request : To evaluate training progress\n",
      "Value: 32.8933219909668\n",
      "> HANDLER Request : To evaluate training progress\n",
      "Value: 9.448577880859375\n",
      "> HANDLER Request :\n",
      "Value: [Parameter containing:\n",
      "tensor([[0.6305]], requires_grad=True), Parameter containing:\n",
      "tensor([1.1781], requires_grad=True)]\n",
      "> HANDLER Request :\n",
      "Value: in_features=1, out_features=1, bias=True\n",
      "> HANDLER Request :\n",
      "Value: OrderedDict([('weight', tensor([[0.6305]])), ('bias', tensor([1.1781]))])\n"
     ]
    }
   ],
   "source": [
    "duet.requests.add_handler(\n",
    "    action=\"accept\",\n",
    "    print_local=True,  # print the result in your notebook\n",
    ")"
   ]
  },
  {
   "cell_type": "code",
   "execution_count": null,
   "id": "assigned-tomato",
   "metadata": {},
   "outputs": [],
   "source": []
  }
 ],
 "metadata": {
  "kernelspec": {
   "display_name": "Python 3",
   "language": "python",
   "name": "python3"
  },
  "language_info": {
   "codemirror_mode": {
    "name": "ipython",
    "version": 3
   },
   "file_extension": ".py",
   "mimetype": "text/x-python",
   "name": "python",
   "nbconvert_exporter": "python",
   "pygments_lexer": "ipython3",
   "version": "3.9.7"
  }
 },
 "nbformat": 4,
 "nbformat_minor": 5
}
